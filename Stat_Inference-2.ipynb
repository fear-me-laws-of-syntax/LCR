{
 "cells": [
  {
   "cell_type": "markdown",
   "metadata": {},
   "source": [
    "### Install Packages and Import Dataset\n",
    "\n",
    "We’ll be using the same dataset of 932 real estate transactions in Sacramento, California, which includes features such as property location, size, and type, just like in our Linear Regression Session. Our goal remains to predict the target variable, Price, based on these features.\n",
    "\n",
    "This dataset was obtained from [spatialkey](https://support.spatialkey.com/spatialkey-sample-csv-data/)\n"
   ]
  },
  {
   "cell_type": "code",
   "execution_count": 2,
   "metadata": {},
   "outputs": [],
   "source": [
    "import numpy as np\n",
    "import pandas as pd\n",
    "import statsmodels.api as sm\n",
    "import statsmodels.formula.api as smf\n",
    "import matplotlib.pyplot as plt"
   ]
  },
  {
   "cell_type": "markdown",
   "metadata": {},
   "source": [
    "In our previous session, we learned that linear regression aims to find the line of best fit, which is the line that minimizes the sum of squared differences between the observed data points and the predicted values. This process works well when there is a clear linear relationship between the predictor variable (independent variable) and the response variable (dependent variable). However, linear regression will still attempt to fit a line even when the data is randomly scattered without a clear trend.\n",
    "\n",
    "This behavior occurs because linear regression doesn't make any assumptions about the underlying relationship between the variables—it simply seeks the line that minimizes the error (the residuals). Even if the data doesn't follow a linear pattern, the algorithm will still produce a line that \"fits\" the data in the sense of minimizing the sum of squared residuals, but this line may not be meaningful or useful for making predictions.\n",
    "\n",
    "For example, in cases where the data is scattered without a clear trend (i.e., the relationship between the variables is not linear), the line produced by linear regression might not reflect the true nature of the data. In these situations, the line may mislead us into thinking that there is some form of linear relationship when, in fact, there is none.\n",
    "\n",
    "![linear regression](./images/scatter_plot_no_relationship.png)"
   ]
  },
  {
   "cell_type": "markdown",
   "metadata": {},
   "source": [
    "Therefore, it's essential to test the significance of the fitted line (specifically, the slope coefficient $\\beta$) to determine whether it actually provides a meaningful relationship between the predictor and the response variable. \n",
    "\n",
    "Hypothesis testing allows us to assess if the slope of the line is significantly different from $0$, which would suggest a meaningful linear relationship. If the slope is not significantly different from $0$, it indicates that the linear model is not a good fit for the data."
   ]
  },
  {
   "cell_type": "markdown",
   "metadata": {},
   "source": [
    "#### Our question is inferential: \n",
    "**Is there a relationship between the size of a house and its sale price?**"
   ]
  },
  {
   "cell_type": "markdown",
   "metadata": {},
   "source": [
    "The equation for the straight line is:\n",
    "\n",
    "$$\n",
    "\\text{House sale price} = \\beta_0 + \\beta_1 \\times (\\text{house size})\n",
    "$$\n",
    "\n",
    "where:\n",
    "\n",
    "- $ \\beta_0 $ is the price when the house size is 0 (the intercept).\n",
    "- $ \\beta_1 $ is how much the price increases for each unit increase in house size (the slope)."
   ]
  },
  {
   "cell_type": "markdown",
   "metadata": {},
   "source": [
    "We need to perform hypothesis testing to determine if the relationship between the predictor (e.g., square footage) and the response variable (e.g., price) is statistically significant.\n"
   ]
  },
  {
   "cell_type": "markdown",
   "metadata": {},
   "source": [
    "#### **Set the Hypotheses**\n",
    "\n",
    "Before performing any calculations, we define two competing hypotheses: the null hypothesis and the alternative hypothesis."
   ]
  },
  {
   "cell_type": "markdown",
   "metadata": {},
   "source": [
    "The null hypothesis states that there is no significant linear relationship between the predictor and the target variable. Mathematically, we express this as:\n",
    "\n",
    "$$\n",
    "H_0: \\beta_1 = 0 \n",
    "$$\n",
    "This means that the slope is zero, and there is no effect of the predictor variable on the response variable.\n",
    "\n",
    "\n",
    "The alternative hypothesis states that there is a significant linear relationship between the predictor and the target variable:\n",
    "$$\n",
    "H_1: \\beta_1 \\neq 0 \n",
    "$$\n",
    "This means that the slope is not zero, and there is an effect of the predictor variable on the response variable.\n"
   ]
  },
  {
   "cell_type": "markdown",
   "metadata": {},
   "source": [
    "We'll begin by loading in our dataset."
   ]
  },
  {
   "cell_type": "code",
   "execution_count": 4,
   "metadata": {},
   "outputs": [
    {
     "data": {
      "text/html": [
       "<div>\n",
       "<style scoped>\n",
       "    .dataframe tbody tr th:only-of-type {\n",
       "        vertical-align: middle;\n",
       "    }\n",
       "\n",
       "    .dataframe tbody tr th {\n",
       "        vertical-align: top;\n",
       "    }\n",
       "\n",
       "    .dataframe thead th {\n",
       "        text-align: right;\n",
       "    }\n",
       "</style>\n",
       "<table border=\"1\" class=\"dataframe\">\n",
       "  <thead>\n",
       "    <tr style=\"text-align: right;\">\n",
       "      <th></th>\n",
       "      <th>street</th>\n",
       "      <th>city</th>\n",
       "      <th>zip</th>\n",
       "      <th>state</th>\n",
       "      <th>beds</th>\n",
       "      <th>baths</th>\n",
       "      <th>sq__ft</th>\n",
       "      <th>type</th>\n",
       "      <th>sale_date</th>\n",
       "      <th>price</th>\n",
       "      <th>latitude</th>\n",
       "      <th>longitude</th>\n",
       "    </tr>\n",
       "  </thead>\n",
       "  <tbody>\n",
       "    <tr>\n",
       "      <th>0</th>\n",
       "      <td>1 KENNELFORD CIR</td>\n",
       "      <td>SACRAMENTO</td>\n",
       "      <td>95823</td>\n",
       "      <td>CA</td>\n",
       "      <td>3</td>\n",
       "      <td>2</td>\n",
       "      <td>1144</td>\n",
       "      <td>Residential</td>\n",
       "      <td>Mon May 19 00:00:00 EDT 2008</td>\n",
       "      <td>200345</td>\n",
       "      <td>38.464520</td>\n",
       "      <td>-121.427606</td>\n",
       "    </tr>\n",
       "    <tr>\n",
       "      <th>1</th>\n",
       "      <td>10 SEA FOAM CT</td>\n",
       "      <td>SACRAMENTO</td>\n",
       "      <td>95831</td>\n",
       "      <td>CA</td>\n",
       "      <td>3</td>\n",
       "      <td>3</td>\n",
       "      <td>2052</td>\n",
       "      <td>Residential</td>\n",
       "      <td>Wed May 21 00:00:00 EDT 2008</td>\n",
       "      <td>415000</td>\n",
       "      <td>38.487885</td>\n",
       "      <td>-121.545947</td>\n",
       "    </tr>\n",
       "    <tr>\n",
       "      <th>2</th>\n",
       "      <td>100 CHELSEA CT</td>\n",
       "      <td>FOLSOM</td>\n",
       "      <td>95630</td>\n",
       "      <td>CA</td>\n",
       "      <td>3</td>\n",
       "      <td>2</td>\n",
       "      <td>1905</td>\n",
       "      <td>Residential</td>\n",
       "      <td>Mon May 19 00:00:00 EDT 2008</td>\n",
       "      <td>500000</td>\n",
       "      <td>38.694350</td>\n",
       "      <td>-121.177259</td>\n",
       "    </tr>\n",
       "    <tr>\n",
       "      <th>3</th>\n",
       "      <td>100 REBECCA WAY</td>\n",
       "      <td>FOLSOM</td>\n",
       "      <td>95630</td>\n",
       "      <td>CA</td>\n",
       "      <td>3</td>\n",
       "      <td>2</td>\n",
       "      <td>2185</td>\n",
       "      <td>Residential</td>\n",
       "      <td>Wed May 21 00:00:00 EDT 2008</td>\n",
       "      <td>344250</td>\n",
       "      <td>38.684790</td>\n",
       "      <td>-121.149199</td>\n",
       "    </tr>\n",
       "    <tr>\n",
       "      <th>4</th>\n",
       "      <td>100 TOURMALINE CIR</td>\n",
       "      <td>SACRAMENTO</td>\n",
       "      <td>95834</td>\n",
       "      <td>CA</td>\n",
       "      <td>5</td>\n",
       "      <td>3</td>\n",
       "      <td>3076</td>\n",
       "      <td>Residential</td>\n",
       "      <td>Mon May 19 00:00:00 EDT 2008</td>\n",
       "      <td>240000</td>\n",
       "      <td>38.634370</td>\n",
       "      <td>-121.510779</td>\n",
       "    </tr>\n",
       "    <tr>\n",
       "      <th>...</th>\n",
       "      <td>...</td>\n",
       "      <td>...</td>\n",
       "      <td>...</td>\n",
       "      <td>...</td>\n",
       "      <td>...</td>\n",
       "      <td>...</td>\n",
       "      <td>...</td>\n",
       "      <td>...</td>\n",
       "      <td>...</td>\n",
       "      <td>...</td>\n",
       "      <td>...</td>\n",
       "      <td>...</td>\n",
       "    </tr>\n",
       "    <tr>\n",
       "      <th>809</th>\n",
       "      <td>9880 IZILDA CT</td>\n",
       "      <td>SACRAMENTO</td>\n",
       "      <td>95829</td>\n",
       "      <td>CA</td>\n",
       "      <td>5</td>\n",
       "      <td>4</td>\n",
       "      <td>3863</td>\n",
       "      <td>Residential</td>\n",
       "      <td>Fri May 16 00:00:00 EDT 2008</td>\n",
       "      <td>598695</td>\n",
       "      <td>38.453260</td>\n",
       "      <td>-121.325730</td>\n",
       "    </tr>\n",
       "    <tr>\n",
       "      <th>810</th>\n",
       "      <td>993 MANTON CT</td>\n",
       "      <td>GALT</td>\n",
       "      <td>95632</td>\n",
       "      <td>CA</td>\n",
       "      <td>4</td>\n",
       "      <td>3</td>\n",
       "      <td>2307</td>\n",
       "      <td>Residential</td>\n",
       "      <td>Tue May 20 00:00:00 EDT 2008</td>\n",
       "      <td>300000</td>\n",
       "      <td>38.272942</td>\n",
       "      <td>-121.289148</td>\n",
       "    </tr>\n",
       "    <tr>\n",
       "      <th>811</th>\n",
       "      <td>9937 BURLINE ST</td>\n",
       "      <td>SACRAMENTO</td>\n",
       "      <td>95827</td>\n",
       "      <td>CA</td>\n",
       "      <td>3</td>\n",
       "      <td>2</td>\n",
       "      <td>1092</td>\n",
       "      <td>Residential</td>\n",
       "      <td>Fri May 16 00:00:00 EDT 2008</td>\n",
       "      <td>150000</td>\n",
       "      <td>38.559641</td>\n",
       "      <td>-121.323160</td>\n",
       "    </tr>\n",
       "    <tr>\n",
       "      <th>812</th>\n",
       "      <td>9949 NESTLING CIR</td>\n",
       "      <td>ELK GROVE</td>\n",
       "      <td>95757</td>\n",
       "      <td>CA</td>\n",
       "      <td>3</td>\n",
       "      <td>2</td>\n",
       "      <td>1543</td>\n",
       "      <td>Residential</td>\n",
       "      <td>Fri May 16 00:00:00 EDT 2008</td>\n",
       "      <td>275000</td>\n",
       "      <td>38.397455</td>\n",
       "      <td>-121.468391</td>\n",
       "    </tr>\n",
       "    <tr>\n",
       "      <th>813</th>\n",
       "      <td>9970 STATE HIGHWAY 193</td>\n",
       "      <td>PLACERVILLE</td>\n",
       "      <td>95667</td>\n",
       "      <td>CA</td>\n",
       "      <td>4</td>\n",
       "      <td>3</td>\n",
       "      <td>1929</td>\n",
       "      <td>Residential</td>\n",
       "      <td>Tue May 20 00:00:00 EDT 2008</td>\n",
       "      <td>485000</td>\n",
       "      <td>38.787877</td>\n",
       "      <td>-120.816676</td>\n",
       "    </tr>\n",
       "  </tbody>\n",
       "</table>\n",
       "<p>814 rows × 12 columns</p>\n",
       "</div>"
      ],
      "text/plain": [
       "                     street         city    zip state  beds  baths  sq__ft  \\\n",
       "0          1 KENNELFORD CIR   SACRAMENTO  95823    CA     3      2    1144   \n",
       "1            10 SEA FOAM CT   SACRAMENTO  95831    CA     3      3    2052   \n",
       "2            100 CHELSEA CT       FOLSOM  95630    CA     3      2    1905   \n",
       "3           100 REBECCA WAY       FOLSOM  95630    CA     3      2    2185   \n",
       "4        100 TOURMALINE CIR   SACRAMENTO  95834    CA     5      3    3076   \n",
       "..                      ...          ...    ...   ...   ...    ...     ...   \n",
       "809          9880 IZILDA CT   SACRAMENTO  95829    CA     5      4    3863   \n",
       "810           993 MANTON CT         GALT  95632    CA     4      3    2307   \n",
       "811         9937 BURLINE ST   SACRAMENTO  95827    CA     3      2    1092   \n",
       "812       9949 NESTLING CIR    ELK GROVE  95757    CA     3      2    1543   \n",
       "813  9970 STATE HIGHWAY 193  PLACERVILLE  95667    CA     4      3    1929   \n",
       "\n",
       "            type                     sale_date   price   latitude   longitude  \n",
       "0    Residential  Mon May 19 00:00:00 EDT 2008  200345  38.464520 -121.427606  \n",
       "1    Residential  Wed May 21 00:00:00 EDT 2008  415000  38.487885 -121.545947  \n",
       "2    Residential  Mon May 19 00:00:00 EDT 2008  500000  38.694350 -121.177259  \n",
       "3    Residential  Wed May 21 00:00:00 EDT 2008  344250  38.684790 -121.149199  \n",
       "4    Residential  Mon May 19 00:00:00 EDT 2008  240000  38.634370 -121.510779  \n",
       "..           ...                           ...     ...        ...         ...  \n",
       "809  Residential  Fri May 16 00:00:00 EDT 2008  598695  38.453260 -121.325730  \n",
       "810  Residential  Tue May 20 00:00:00 EDT 2008  300000  38.272942 -121.289148  \n",
       "811  Residential  Fri May 16 00:00:00 EDT 2008  150000  38.559641 -121.323160  \n",
       "812  Residential  Fri May 16 00:00:00 EDT 2008  275000  38.397455 -121.468391  \n",
       "813  Residential  Tue May 20 00:00:00 EDT 2008  485000  38.787877 -120.816676  \n",
       "\n",
       "[814 rows x 12 columns]"
      ]
     },
     "execution_count": 4,
     "metadata": {},
     "output_type": "execute_result"
    }
   ],
   "source": [
    "sacramento = pd.read_csv(\"/Users/kate/Desktop/DSI UofT/LCR/01_materials/notebooks/dataset/sacramento.csv\")\n",
    "sacramento"
   ]
  },
  {
   "cell_type": "markdown",
   "metadata": {},
   "source": [
    "This question guides our initial exploration: the columns in the data that we are interested in are \n",
    "- **sq__ft** (house size, in livable square feet)\n",
    "-  **price** (house sale price, in US dollars (USD)). "
   ]
  },
  {
   "cell_type": "markdown",
   "metadata": {},
   "source": [
    "#### **How we do perform it?**"
   ]
  },
  {
   "cell_type": "markdown",
   "metadata": {},
   "source": [
    "We can perform simple linear regression in Python using `statsmodels` package. The `statsmodels` package is a powerful library used for performing statistical analysis and modeling in Python. \n",
    "\n",
    "It provides tools for fitting a wide variety of statistical models, performing hypothesis tests, and visualizing data. `statsmodels` is particularly popular for its ease of use in statistical modeling and inference!"
   ]
  },
  {
   "cell_type": "markdown",
   "metadata": {},
   "source": [
    "`statsmodels` provides a formula interface that allows you to specify models in a familiar formula syntax (similar to R), which makes it easy to specify the model and interact with your data.\n",
    "\n",
    "> model(response variable ~ predictor, data).fit()"
   ]
  },
  {
   "cell_type": "code",
   "execution_count": 5,
   "metadata": {},
   "outputs": [],
   "source": [
    "# Simple linear regression formula\n",
    "model = smf.ols(\"price ~ sq__ft\", data=sacramento).fit()"
   ]
  },
  {
   "cell_type": "markdown",
   "metadata": {},
   "source": [
    "*Wait, what is OLS?*\n",
    "\n",
    "Ordinary Least Squares (OLS) is a method used to find the best-fitting line through a set of data points. Imagine you have a scatter plot of data points, and you want to draw a line that best represents the overall trend of the data. OLS helps determine the slope and position of that line by minimizing the total distance (errors) between the data points and the line.\n",
    "\n",
    "In simpler terms, it’s like trying to draw a line that gets as close as possible to all the points without going too far from any of them. OLS does this by adjusting the line so that the sum of the squared differences between the observed values and the line is as small as possible. This way, you get the most accurate line to predict or explain the relationship between the variables."
   ]
  },
  {
   "cell_type": "markdown",
   "metadata": {},
   "source": [
    "After fitting our model, we can view the summary of the model, which includes importatnt statistics like R-squared, p-values, F-statistics of our model fit and t-statistics for our significance of variables!"
   ]
  },
  {
   "cell_type": "code",
   "execution_count": 6,
   "metadata": {},
   "outputs": [
    {
     "name": "stdout",
     "output_type": "stream",
     "text": [
      "                            OLS Regression Results                            \n",
      "==============================================================================\n",
      "Dep. Variable:                  price   R-squared:                       0.481\n",
      "Model:                            OLS   Adj. R-squared:                  0.481\n",
      "Method:                 Least Squares   F-statistic:                     753.2\n",
      "Date:                Thu, 23 Jan 2025   Prob (F-statistic):          7.67e-118\n",
      "Time:                        19:01:14   Log-Likelihood:                -10406.\n",
      "No. Observations:                 814   AIC:                         2.082e+04\n",
      "Df Residuals:                     812   BIC:                         2.083e+04\n",
      "Df Model:                           1                                         \n",
      "Covariance Type:            nonrobust                                         \n",
      "==============================================================================\n",
      "                 coef    std err          t      P>|t|      [0.025      0.975]\n",
      "------------------------------------------------------------------------------\n",
      "Intercept   3.021e+04   7865.211      3.841      0.000    1.48e+04    4.56e+04\n",
      "sq__ft       125.2165      4.562     27.445      0.000     116.261     134.172\n",
      "==============================================================================\n",
      "Omnibus:                      223.326   Durbin-Watson:                   2.062\n",
      "Prob(Omnibus):                  0.000   Jarque-Bera (JB):             4896.878\n",
      "Skew:                           0.684   Prob(JB):                         0.00\n",
      "Kurtosis:                      14.938   Cond. No.                     4.48e+03\n",
      "==============================================================================\n",
      "\n",
      "Notes:\n",
      "[1] Standard Errors assume that the covariance matrix of the errors is correctly specified.\n",
      "[2] The condition number is large, 4.48e+03. This might indicate that there are\n",
      "strong multicollinearity or other numerical problems.\n"
     ]
    }
   ],
   "source": [
    "print(model.summary())"
   ]
  },
  {
   "cell_type": "markdown",
   "metadata": {},
   "source": [
    "The output of `model.summary()` will display several useful statistics:\n",
    "\n",
    "- Coefficients: These show the estimated values for the intercept and slope of the regression line.\n",
    "- Standard Errors: The standard errors of the estimated coefficients.\n",
    "- t-values and p-values: Used to assess the statistical significance of the coefficients.\n",
    "- R-squared: A measure of how well the model explains the variance in the target variable.\n",
    "- Confidence Intervals: For each coefficient, showing the range of values in which the true coefficient might lie."
   ]
  },
  {
   "cell_type": "markdown",
   "metadata": {},
   "source": [
    "Here are some things we can note.\n",
    "\n",
    "- The **Coef (Coefficient)** column indicates that for each additional square foot of house size, the price increases by 125.2165 units (likely dollars).\n",
    "\n",
    "- The **Std err (Standard Error)** of 4.562 suggests that the true value of the coefficient could fall within a range of 125.2165 ± 4.562, reflecting the uncertainty of the coefficient estimate.\n",
    "\n",
    "- The **t** value of 27.445 is very large, suggesting a strong, statistically significant relationship between house size and price.\n",
    "\n",
    "- The **P>|t|** column shows a p-value of 0.000, confirming that this coefficient is statistically significant and not due to random chance.\n",
    "\n",
    "- The **[0.025, 0.975]** columns represent the 95% confidence interval (116.261 to 134.172), meaning we are 95% confident that the true price increase per square foot falls within this range.\n",
    "\n",
    "- The **R-squared** value of 0.481 means that about 48.1% of the variance in house prices can be explained by the predictor (house size).\n",
    "\n",
    "- The **F-statistic** of 753.2, with a corresponding p-value of 7.67e-118, indicates that the overall model is highly significant."
   ]
  },
  {
   "cell_type": "markdown",
   "metadata": {},
   "source": [
    "Next, let's visualize our results!\n"
   ]
  },
  {
   "cell_type": "code",
   "execution_count": 7,
   "metadata": {},
   "outputs": [
    {
     "data": {
      "image/png": "[encoded data removed]",
      "text/plain": [
       "<Figure size 640x480 with 1 Axes>"
      ]
     },
     "metadata": {},
     "output_type": "display_data"
    }
   ],
   "source": [
    "# Predict the values based on the model\n",
    "predictions = model.predict(sacramento[[\"sq__ft\"]])\n",
    "\n",
    "# Plotting the data and the regression line\n",
    "plt.scatter(sacramento[[\"sq__ft\"]], sacramento[\"price\"], color='blue', label='Actual data')  # Scatter plot of actual data\n",
    "plt.plot(sacramento[[\"sq__ft\"]], predictions, color='red', label='Fitted line')  # Regression line\n",
    "plt.title('House Price vs. House Size')\n",
    "plt.xlabel('House Size (sq ft)')\n",
    "plt.ylabel('Price')\n",
    "plt.legend()\n",
    "plt.show()"
   ]
  },
  {
   "cell_type": "markdown",
   "metadata": {},
   "source": [
    "This plot gives a clear visual of how well house size predicts price in the data. The regression line provides a summary of the linear trend, and the scatter plot highlights individual data points. You can see that although there is a general upward trend, there’s some variability in the actual prices for houses of the same size."
   ]
  },
  {
   "cell_type": "markdown",
   "metadata": {},
   "source": [
    "### **Multivariable Linear Regression**"
   ]
  },
  {
   "cell_type": "markdown",
   "metadata": {},
   "source": [
    "We can extend our model to include multiple predictors! For example, lets say we now want to include both house size and number of bedrooms as predictors in our model\n",
    "\n",
    "$$\n",
    "\\text{y} = \\beta_0 + \\beta_1(x_1) + \\beta_2(x_2)\n",
    "$$\n",
    "\n",
    "  where:\n",
    "  $\\text{y}$ is the response variable.\n",
    " $\\beta_0$ is the vertical intercept.\n",
    "  $\\beta_1$ is the slope for predictor 1 (e.g., ($x_1$) house size)\n",
    "  $\\beta_2$ is the slope for predictor 2 (e.g., ($x_2$) number of bedrooms)\n"
   ]
  },
  {
   "cell_type": "markdown",
   "metadata": {},
   "source": [
    "To do this, We just simply add the predictor variables to our model, separated by a plus sign `(+)`\n",
    "> model(response variable ~ predictor1 + predictor2, data).fit()"
   ]
  },
  {
   "cell_type": "code",
   "execution_count": 8,
   "metadata": {},
   "outputs": [],
   "source": [
    "# Multivariable linear regression formula\n",
    "multi_model = smf.ols(\"price ~ sq__ft + beds\", data=sacramento).fit()"
   ]
  },
  {
   "cell_type": "code",
   "execution_count": 9,
   "metadata": {},
   "outputs": [
    {
     "name": "stdout",
     "output_type": "stream",
     "text": [
      "                            OLS Regression Results                            \n",
      "==============================================================================\n",
      "Dep. Variable:                  price   R-squared:                       0.484\n",
      "Model:                            OLS   Adj. R-squared:                  0.483\n",
      "Method:                 Least Squares   F-statistic:                     381.0\n",
      "Date:                Thu, 23 Jan 2025   Prob (F-statistic):          2.15e-117\n",
      "Time:                        19:01:25   Log-Likelihood:                -10404.\n",
      "No. Observations:                 814   AIC:                         2.081e+04\n",
      "Df Residuals:                     811   BIC:                         2.083e+04\n",
      "Df Model:                           2                                         \n",
      "Covariance Type:            nonrobust                                         \n",
      "==============================================================================\n",
      "                 coef    std err          t      P>|t|      [0.025      0.975]\n",
      "------------------------------------------------------------------------------\n",
      "Intercept    5.04e+04   1.19e+04      4.221      0.000     2.7e+04    7.38e+04\n",
      "sq__ft       135.1051      6.336     21.324      0.000     122.669     147.542\n",
      "beds       -1.107e+04   4935.753     -2.243      0.025   -2.08e+04   -1384.621\n",
      "==============================================================================\n",
      "Omnibus:                      216.941   Durbin-Watson:                   2.073\n",
      "Prob(Omnibus):                  0.000   Jarque-Bera (JB):             6661.246\n",
      "Skew:                           0.520   Prob(JB):                         0.00\n",
      "Kurtosis:                      16.976   Cond. No.                     7.16e+03\n",
      "==============================================================================\n",
      "\n",
      "Notes:\n",
      "[1] Standard Errors assume that the covariance matrix of the errors is correctly specified.\n",
      "[2] The condition number is large, 7.16e+03. This might indicate that there are\n",
      "strong multicollinearity or other numerical problems.\n"
     ]
    }
   ],
   "source": [
    "print(multi_model.summary())"
   ]
  },
  {
   "cell_type": "markdown",
   "metadata": {},
   "source": [
    "### 1. **Square Footage (sq__ft)**:\n",
    "- **Coef (Coefficient)**: The coefficient for square footage is **135.1051**, which means for every additional square foot of house size, the price increases by approximately **$135.11**, holding the number of bedrooms constant. This means that if you were to compare two houses with the same number of bedrooms, the one with more square footage would be valued higher.\n",
    "- **Std err (Standard Error)**: The standard error of **6.336** for square footage suggests that the true price increase per square foot could vary by **±6.336**. This shows a relatively low level of uncertainty around the estimate of the coefficient.\n",
    "- **t-value**: The t-value for square footage is **21.324**, which is quite large. This indicates a very strong and statistically significant relationship between house size and price.\n",
    "- **P>|t|**: The p-value for square footage is **0.000**, confirming that the relationship between house size and price is highly statistically significant and not due to random chance.\n",
    "- **[0.025, 0.975] (95% Confidence Interval)**: The 95% confidence interval for square footage is **(122.669, 147.542)**. This means we are 95% confident that the true price increase per square foot falls within this range.\n",
    "  \n",
    "### 2. **Number of Bedrooms (beds)**:\n",
    "- **Coef (Coefficient)**: The coefficient for the number of bedrooms is **-11,070.00**, meaning that each additional bedroom is associated with a **decrease of $11,070** in house price, holding square footage constant. This means that when comparing two houses with the same square footage, adding one more bedroom would decrease the price.\n",
    "- **Std err (Standard Error)**: The standard error for the number of bedrooms is **4,935.753**, which is larger than the standard error for square footage, indicating more uncertainty about the coefficient's estimate. \n",
    "- **t-value**: The t-value for the number of bedrooms is **-2.243**, which is still statistically significant, but the effect is weaker compared to square footage.\n",
    "- **P>|t|**: The p-value for the number of bedrooms is **0.025**, indicating that the relationship between the number of bedrooms and price is statistically significant, but the effect is weaker than that of square footage.\n",
    "- **[0.025, 0.975] (95% Confidence Interval)**: The 95% confidence interval for the number of bedrooms is **(-20,800, -1,384)**, meaning we are 95% confident that each additional bedroom decreases the house price by somewhere between **$1,384 and $20,800**.\n",
    "\n",
    "### Overall Model Fit:\n",
    "- The **Adjusted- R-squared** value of 0.483 means that about 48.3% of the variance in house prices can be explained by the predictors (house size and number of bedrooms). Note, here we are looking at adjusted R-squared, as it provides a more realistic measure of model quality by considering both the goodness of fit and the complexity of the model. It helps avoid overfitting by penalizing unnecessary predictors.\n",
    "\n",
    "- The **F-statistic** of 381.0, with a corresponding p-value of 2.15e-117, indicates that the overall model is highly significant."
   ]
  },
  {
   "cell_type": "markdown",
   "metadata": {},
   "source": [
    "### **Inclusion of a categorical predictor**"
   ]
  },
  {
   "cell_type": "markdown",
   "metadata": {},
   "source": [
    "Now, let's say we are also interested in whether the house **type** is a significant predictor of price. First let’s look at our categorical variable."
   ]
  },
  {
   "cell_type": "code",
   "execution_count": null,
   "metadata": {},
   "outputs": [],
   "source": [
    "sacramento[\"type\"].unique()"
   ]
  },
  {
   "cell_type": "markdown",
   "metadata": {},
   "source": [
    "As we observe, the **type** column contains three unique categories: residential, multi-family, and condo. Since linear regression models require numerical inputs, we need to convert this categorical variable into a suitable numerical format.\n",
    "\n",
    "To include **type** as a predictor in our model, we'll apply **one-hot encoding**. This technique transforms categorical variables into a set of binary (0 or 1) columns, each corresponding to one of the categories. This allows the model to correctly interpret the variable.\n",
    "\n",
    "We will use the `pandas.get_dummies()` function to perform the encoding."
   ]
  },
  {
   "cell_type": "code",
   "execution_count": 11,
   "metadata": {},
   "outputs": [],
   "source": [
    "sacramento_encoded = pd.get_dummies(sacramento, columns=['type'], drop_first=True)"
   ]
  },
  {
   "cell_type": "markdown",
   "metadata": {},
   "source": [
    "To avoid multicollinearity, we use the argument `drop_first=True` when performing one-hot encoding. Multicollinearity can arise when the reference category is fully represented by the other dummy variables, which can distort the results of the regression model. By dropping the first category, we ensure that the model doesn't suffer from this issue, while still retaining all the relevant information.\n",
    "\n",
    "After applying `get_dummies()`, we can inspect the output in the `sacramento_encoded` dataframe. "
   ]
  },
  {
   "cell_type": "code",
   "execution_count": null,
   "metadata": {},
   "outputs": [],
   "source": [
    "sacramento_encoded"
   ]
  },
  {
   "cell_type": "markdown",
   "metadata": {},
   "source": [
    "You'll notice that each of the categories from the **type** variable now has its own column: one for **multi-family** and one for **residential**. The category, **condo**, is dropped to avoid multicollinearity. The presence of each category is now represented as a binary value (0 or 1), allowing the model to use these encoded values as predictors.\n",
    "\n",
    "With the **type** variable properly encoded, we can proceed with preparing the dataset for the linear regression model, using **sq__ft** (house size) and the encoded **type** columns as predictors.\n",
    "\n",
    "> Note. If we wanted to change the reference group, we wouldn't specify `drop_first=True`. Instead, we would manually drop the group we want to set as the reference category. For example, if we wanted to make **multi-family** the reference category instead of **condo**, we would first encode the **type** variable using `get_dummies()` without `drop_first=True` and then manually drop the **multi-family** column. This way, **multi-family** would become the reference group, and the other categories (such as **residential** and **condo**) would be compared to it in the model."
   ]
  },
  {
   "cell_type": "markdown",
   "metadata": {},
   "source": [
    "With our type variable now properly encoded, we can move on to preparing our dataset for the linear regression model, using  the sq__ft (house size), number of bedrooms, and the encoded type all as predictors. "
   ]
  },
  {
   "cell_type": "code",
   "execution_count": 10,
   "metadata": {},
   "outputs": [
    {
     "ename": "NameError",
     "evalue": "name 'sacramento_encoded' is not defined",
     "output_type": "error",
     "traceback": [
      "\u001b[0;31m---------------------------------------------------------------------------\u001b[0m",
      "\u001b[0;31mNameError\u001b[0m                                 Traceback (most recent call last)",
      "Cell \u001b[0;32mIn[10], line 2\u001b[0m\n\u001b[1;32m      1\u001b[0m \u001b[38;5;66;03m# Rename columns to replace hyphens with underscores for ease\u001b[39;00m\n\u001b[0;32m----> 2\u001b[0m sacramento_encoded\u001b[38;5;241m.\u001b[39mcolumns \u001b[38;5;241m=\u001b[39m \u001b[43msacramento_encoded\u001b[49m\u001b[38;5;241m.\u001b[39mcolumns\u001b[38;5;241m.\u001b[39mstr\u001b[38;5;241m.\u001b[39mreplace(\u001b[38;5;124m'\u001b[39m\u001b[38;5;124m-\u001b[39m\u001b[38;5;124m'\u001b[39m, \u001b[38;5;124m'\u001b[39m\u001b[38;5;124m_\u001b[39m\u001b[38;5;124m'\u001b[39m)\n\u001b[1;32m      4\u001b[0m \u001b[38;5;66;03m# Now fit the model using the new column names\u001b[39;00m\n\u001b[1;32m      5\u001b[0m multi_cat_model \u001b[38;5;241m=\u001b[39m smf\u001b[38;5;241m.\u001b[39mols(\u001b[38;5;124m\"\u001b[39m\u001b[38;5;124mprice ~ sq__ft + beds + type_Multi_Family + type_Residential\u001b[39m\u001b[38;5;124m\"\u001b[39m, data\u001b[38;5;241m=\u001b[39msacramento_encoded)\u001b[38;5;241m.\u001b[39mfit()\n",
      "\u001b[0;31mNameError\u001b[0m: name 'sacramento_encoded' is not defined"
     ]
    }
   ],
   "source": [
    "# Rename columns to replace hyphens with underscores for ease\n",
    "sacramento_encoded.columns = sacramento_encoded.columns.str.replace('-', '_')\n",
    "\n",
    "# Now fit the model using the new column names\n",
    "multi_cat_model = smf.ols(\"price ~ sq__ft + beds + type_Multi_Family + type_Residential\", data=sacramento_encoded).fit()"
   ]
  },
  {
   "cell_type": "code",
   "execution_count": null,
   "metadata": {},
   "outputs": [],
   "source": [
    "print(multi_cat_model.summary())"
   ]
  },
  {
   "cell_type": "markdown",
   "metadata": {},
   "source": [
    "When dealing with categorical predictors in a regression model, the interpretation of the coefficients is slightly different from continuous predictors. \n",
    "\n",
    "Here, one of the categories is automatically chosen as the reference group. This reference group does not have a separate coefficient assigned to it in the output. Instead, its effect is captured in the coefficients of other categories reflect the difference in the outcome variable (e.g., house price) relative to the reference group.\n",
    "\n",
    "For example, in the case of the type variable with categories: Residential, Multi-Family, and Condo. If Condo is our reference category, the coefficients for Multi-Family and Residential would tell us how the house price differs from Condo."
   ]
  },
  {
   "cell_type": "markdown",
   "metadata": {},
   "source": [
    "### 1. **Multi-Family (type_Multi_Family)**:\n",
    "- **Coef (Coefficient)**: The coefficient for **Multi-Family** is **-21,720**, meaning that **Multi-Family** properties are predicted to be **$21,720 less** in price than **Condo** properties, holding square footage and number of bedrooms constant. \n",
    "- **Std err (Standard Error)**: The standard error for **Multi-Family** is **29,000**, suggesting that the true price difference could vary by **±29,000**. This high level of uncertainty shows that we cannot confidently rely on this estimate.\n",
    "- **t-value**: The t-value for **Multi-Family** is **-0.748**, which is quite small and indicates a weak relationship between **Multi-Family** properties and price.\n",
    "- **P>|t|**: The p-value for **Multi-Family** is **0.455**, which is much higher than the common significance level of **0.05**. This indicates that the coefficient is not statistically significant and the price difference between **Multi-Family** and **Condo** properties is likely due to random chance.\n",
    "- **[0.025, 0.975] (95% Confidence Interval)**: The 95% confidence interval for **Multi-Family** is **(-78,700, 35,300)**. Since this range includes zero, it further suggests that the difference in price between **Multi-Family** and **Condo** properties is not significant.\n",
    "\n",
    "### 2. **Residential (type_Residential)**:\n",
    "- **Coef (Coefficient)**: The coefficient for **Residential** is **31,830**, meaning that, **Residential** properties are predicted to be **$31,830 more** in price than **Condo** properties, holding square footage and number of bedrooms constant. This indicates that **Residential** properties tend to be more expensive than **Condo** properties.\n",
    "- **Std err (Standard Error)**: The standard error for **Residential** is **14,600**, suggesting that the true price difference could vary by **±14,600**. This reflects a moderate level of uncertainty in the estimate.\n",
    "- **t-value**: The t-value for **Residential** is **2.174**, which indicates a meaningful relationship between **Residential** properties and price.\n",
    "- **P>|t|**: The p-value for **Residential** is **0.030**, which is below the typical threshold of **0.05**, confirming that the difference in price between **Residential** and **Condo** properties is statistically significant.\n",
    "- **[0.025, 0.975] (95% Confidence Interval)**: The 95% confidence interval for **Residential** is **(3,095, 60,600)**. This interval does not include zero, further suggesting that the price difference between **Residential** and **Condo** properties is statistically significant.\n",
    "\n",
    "### Summary:\n",
    "- **Multi-Family** properties are not significantly different from **Condo** properties in terms of price, as evidenced by the high p-value and wide confidence interval.\n",
    "- **Residential** properties are significantly more expensive than **Condo** properties, with a positive and statistically significant coefficient, suggesting that house type is an important predictor of price."
   ]
  }
 ],
 "metadata": {
  "kernelspec": {
   "display_name": "Python 3",
   "language": "python",
   "name": "python3"
  },
  "language_info": {
   "codemirror_mode": {
    "name": "ipython",
    "version": 3
   },
   "file_extension": ".py",
   "mimetype": "text/x-python",
   "name": "python",
   "nbconvert_exporter": "python",
   "pygments_lexer": "ipython3",
   "version": "3.9.6"
  }
 },
 "nbformat": 4,
 "nbformat_minor": 4
}
